{
 "cells": [
  {
   "cell_type": "code",
   "execution_count": 22,
   "metadata": {},
   "outputs": [],
   "source": [
    "import torch\n",
    "import re\n",
    "import pandas as pd\n",
    "from datasets import load_dataset\n",
    "from torch.utils.data import DataLoader, TensorDataset\n",
    "import transformers\n",
    "from tqdm import tqdm\n",
    "import torch.nn as nn\n",
    "import torch.nn.utils.parametrize as parametrize"
   ]
  },
  {
   "cell_type": "code",
   "execution_count": 2,
   "metadata": {},
   "outputs": [
    {
     "name": "stdout",
     "output_type": "stream",
     "text": [
      "Using device: mps\n"
     ]
    }
   ],
   "source": [
    "device = torch.device(\"cuda\" if torch.cuda.is_available() else \"mps\" if torch.backends.mps.is_available() else \"cpu\")\n",
    "print(f\"Using device: {device}\")"
   ]
  },
  {
   "cell_type": "markdown",
   "metadata": {},
   "source": [
    "## Load and Process Dataset"
   ]
  },
  {
   "cell_type": "code",
   "execution_count": 3,
   "metadata": {},
   "outputs": [],
   "source": [
    "dataset = load_dataset(\"imdb\", split=\"train\")"
   ]
  },
  {
   "cell_type": "code",
   "execution_count": 4,
   "metadata": {},
   "outputs": [],
   "source": [
    "def process(x):\n",
    "    x = re.sub('[,\\.!?:()\"]', '', x)\n",
    "    x = re.sub('<.*?>', ' ', x)\n",
    "    x = re.sub('http\\S+', ' ', x)\n",
    "    x = re.sub('[^a-zA-Z0-9]', ' ', x)\n",
    "    x = re.sub('\\s+', ' ', x)\n",
    "    return x.lower().strip()"
   ]
  },
  {
   "cell_type": "code",
   "execution_count": 5,
   "metadata": {},
   "outputs": [],
   "source": [
    "dataset = dataset.map(lambda x: {'text': process(x['text'])})\n",
    "dataset = dataset.filter(lambda x: len(x['text']) > 0)"
   ]
  },
  {
   "cell_type": "code",
   "execution_count": 6,
   "metadata": {},
   "outputs": [],
   "source": [
    "tokenizer = transformers.DistilBertTokenizer.from_pretrained(\"distilbert-base-uncased\")\n",
    "def tokenize_function(examples):\n",
    "    return tokenizer(examples[\"text\"], truncation=True, max_length=512, padding=\"max_length\")\n",
    "\n",
    "tokenized_datasets = dataset.map(tokenize_function, batched=True)\n",
    "tokenized_datasets.set_format(type='torch', columns=['input_ids', 'attention_mask', 'label'])"
   ]
  },
  {
   "cell_type": "code",
   "execution_count": 7,
   "metadata": {},
   "outputs": [
    {
     "name": "stdout",
     "output_type": "stream",
     "text": [
      "Train dataset size: 10000\n",
      "Test dataset size: 5000\n"
     ]
    }
   ],
   "source": [
    "tokenized_datasets = tokenized_datasets.shuffle(seed=42)\n",
    "train_dataset = tokenized_datasets.select(range(10000))\n",
    "test_dataset = tokenized_datasets.select(range(10000, 15000))\n",
    "\n",
    "print(\"Train dataset size:\", len(train_dataset))\n",
    "print(\"Test dataset size:\", len(test_dataset))"
   ]
  },
  {
   "cell_type": "code",
   "execution_count": 8,
   "metadata": {},
   "outputs": [
    {
     "data": {
      "text/plain": [
       "Dataset({\n",
       "    features: ['text', 'label', 'input_ids', 'attention_mask'],\n",
       "    num_rows: 10000\n",
       "})"
      ]
     },
     "execution_count": 8,
     "metadata": {},
     "output_type": "execute_result"
    }
   ],
   "source": [
    "train_dataset"
   ]
  },
  {
   "cell_type": "code",
   "execution_count": 9,
   "metadata": {},
   "outputs": [
    {
     "name": "stdout",
     "output_type": "stream",
     "text": [
      "Train dataset:\n",
      "0    5004\n",
      "1    4996\n",
      "Name: label, dtype: int64\n",
      "Test dataset:\n",
      "1    2504\n",
      "0    2496\n",
      "Name: label, dtype: int64\n"
     ]
    }
   ],
   "source": [
    "train_df = pd.DataFrame(train_dataset[\"label\"], columns=[\"label\"])\n",
    "test_df = pd.DataFrame(test_dataset[\"label\"], columns=[\"label\"])\n",
    "\n",
    "print(\"Train dataset:\")\n",
    "print(train_df[\"label\"].value_counts())\n",
    "print(\"Test dataset:\")\n",
    "print(test_df[\"label\"].value_counts())"
   ]
  },
  {
   "cell_type": "code",
   "execution_count": 10,
   "metadata": {},
   "outputs": [],
   "source": [
    "def create_dataloader(dataset, batch_size=32, shuffle=True):\n",
    "    input_ids = dataset[\"input_ids\"]\n",
    "    attention_mask = dataset[\"attention_mask\"]\n",
    "    labels = dataset[\"label\"]\n",
    "\n",
    "    tensor_dataset = TensorDataset(input_ids, attention_mask, labels)\n",
    "    dataloader = DataLoader(tensor_dataset, batch_size=batch_size, shuffle=shuffle)\n",
    "    return dataloader"
   ]
  },
  {
   "cell_type": "code",
   "execution_count": 11,
   "metadata": {},
   "outputs": [],
   "source": [
    "train_dataloader = create_dataloader(train_dataset, batch_size=16, shuffle=True)\n",
    "test_dataloader = create_dataloader(test_dataset, batch_size=32, shuffle=False)"
   ]
  },
  {
   "cell_type": "markdown",
   "metadata": {},
   "source": [
    "## Load model"
   ]
  },
  {
   "cell_type": "code",
   "execution_count": 12,
   "metadata": {},
   "outputs": [
    {
     "name": "stderr",
     "output_type": "stream",
     "text": [
      "Some weights of DistilBertForSequenceClassification were not initialized from the model checkpoint at distilbert-base-uncased and are newly initialized: ['classifier.bias', 'classifier.weight', 'pre_classifier.bias', 'pre_classifier.weight']\n",
      "You should probably TRAIN this model on a down-stream task to be able to use it for predictions and inference.\n"
     ]
    }
   ],
   "source": [
    "model = transformers.DistilBertForSequenceClassification.from_pretrained(\"distilbert-base-uncased\", num_labels=2)"
   ]
  },
  {
   "cell_type": "code",
   "execution_count": 13,
   "metadata": {},
   "outputs": [
    {
     "data": {
      "text/plain": [
       "DistilBertForSequenceClassification(\n",
       "  (distilbert): DistilBertModel(\n",
       "    (embeddings): Embeddings(\n",
       "      (word_embeddings): Embedding(30522, 768, padding_idx=0)\n",
       "      (position_embeddings): Embedding(512, 768)\n",
       "      (LayerNorm): LayerNorm((768,), eps=1e-12, elementwise_affine=True)\n",
       "      (dropout): Dropout(p=0.1, inplace=False)\n",
       "    )\n",
       "    (transformer): Transformer(\n",
       "      (layer): ModuleList(\n",
       "        (0-5): 6 x TransformerBlock(\n",
       "          (attention): MultiHeadSelfAttention(\n",
       "            (dropout): Dropout(p=0.1, inplace=False)\n",
       "            (q_lin): Linear(in_features=768, out_features=768, bias=True)\n",
       "            (k_lin): Linear(in_features=768, out_features=768, bias=True)\n",
       "            (v_lin): Linear(in_features=768, out_features=768, bias=True)\n",
       "            (out_lin): Linear(in_features=768, out_features=768, bias=True)\n",
       "          )\n",
       "          (sa_layer_norm): LayerNorm((768,), eps=1e-12, elementwise_affine=True)\n",
       "          (ffn): FFN(\n",
       "            (dropout): Dropout(p=0.1, inplace=False)\n",
       "            (lin1): Linear(in_features=768, out_features=3072, bias=True)\n",
       "            (lin2): Linear(in_features=3072, out_features=768, bias=True)\n",
       "            (activation): GELUActivation()\n",
       "          )\n",
       "          (output_layer_norm): LayerNorm((768,), eps=1e-12, elementwise_affine=True)\n",
       "        )\n",
       "      )\n",
       "    )\n",
       "  )\n",
       "  (pre_classifier): Linear(in_features=768, out_features=768, bias=True)\n",
       "  (classifier): Linear(in_features=768, out_features=2, bias=True)\n",
       "  (dropout): Dropout(p=0.2, inplace=False)\n",
       ")"
      ]
     },
     "execution_count": 13,
     "metadata": {},
     "output_type": "execute_result"
    }
   ],
   "source": [
    "model"
   ]
  },
  {
   "cell_type": "markdown",
   "metadata": {},
   "source": [
    "## Set up Training / Eval Code"
   ]
  },
  {
   "cell_type": "code",
   "execution_count": 16,
   "metadata": {},
   "outputs": [],
   "source": [
    "def train(model, train_dataloader, num_epochs=5):\n",
    "    optimizer = torch.optim.AdamW(model.parameters(), lr=5e-5)\n",
    "    model.to(device)\n",
    "    model.train()\n",
    "\n",
    "    for epoch in range(num_epochs):\n",
    "        total_loss = 0\n",
    "        correct_predictions = 0\n",
    "        total_predictions = 0\n",
    "\n",
    "        for batch in tqdm(train_dataloader, desc=f\"Training Epoch {epoch + 1}\"):\n",
    "            input_ids = batch[0].to(device)\n",
    "            attention_mask = batch[1].to(device)\n",
    "            labels = batch[2].to(device)\n",
    "\n",
    "            optimizer.zero_grad()\n",
    "\n",
    "            outputs = model(input_ids=input_ids, attention_mask=attention_mask, labels=labels)\n",
    "\n",
    "            loss = outputs.loss\n",
    "            logits = outputs.logits\n",
    "\n",
    "            loss.backward()\n",
    "            optimizer.step()\n",
    "\n",
    "            total_loss += loss.item()\n",
    "            predictions = torch.argmax(logits, dim=-1)\n",
    "            correct_predictions += (predictions == labels).sum().item()\n",
    "            total_predictions += labels.size(0)\n",
    "        \n",
    "        accuracy = correct_predictions / total_predictions\n",
    "        avg_loss = total_loss / len(train_dataloader)\n",
    "        print(f\"Epoch {epoch + 1}/{num_epochs} - Loss: {avg_loss:.4f}, Accuracy: {accuracy:.4f}\")"
   ]
  },
  {
   "cell_type": "code",
   "execution_count": 17,
   "metadata": {},
   "outputs": [],
   "source": [
    "def eval(model, test_dataloader):\n",
    "    model.eval()\n",
    "    model.to(device)\n",
    "    correct_predictions = 0\n",
    "    total_predictions = 0\n",
    "\n",
    "    with torch.no_grad():\n",
    "        for batch in tqdm(test_dataloader, desc=\"Evaluating\"):\n",
    "            input_ids = batch[0].to(device)\n",
    "            attention_mask = batch[1].to(device)\n",
    "            labels = batch[2].to(device)\n",
    "\n",
    "            outputs = model(input_ids=input_ids, attention_mask=attention_mask)\n",
    "            logits = outputs.logits\n",
    "\n",
    "            predictions = torch.argmax(logits, dim=-1)\n",
    "            correct_predictions += (predictions == labels).sum().item()\n",
    "            total_predictions += labels.size(0)\n",
    "\n",
    "    accuracy = correct_predictions / total_predictions\n",
    "    print(f\"Test Accuracy: {accuracy:.4f}\")"
   ]
  },
  {
   "cell_type": "markdown",
   "metadata": {},
   "source": [
    "## Normal finetune of head of model"
   ]
  },
  {
   "cell_type": "code",
   "execution_count": 18,
   "metadata": {},
   "outputs": [],
   "source": [
    "# Only finetune the classifier head\n",
    "for param in model.distilbert.parameters():\n",
    "    param.requires_grad = False\n",
    "for param in model.pre_classifier.parameters():\n",
    "    param.requires_grad = True\n",
    "for param in model.classifier.parameters():\n",
    "    param.requires_grad = True"
   ]
  },
  {
   "cell_type": "code",
   "execution_count": 19,
   "metadata": {},
   "outputs": [
    {
     "name": "stderr",
     "output_type": "stream",
     "text": [
      "Training Epoch 1: 100%|██████████| 625/625 [03:52<00:00,  2.69it/s]\n"
     ]
    },
    {
     "name": "stdout",
     "output_type": "stream",
     "text": [
      "Epoch 1/5 - Loss: 0.5311, Accuracy: 0.7643\n"
     ]
    },
    {
     "name": "stderr",
     "output_type": "stream",
     "text": [
      "Training Epoch 2: 100%|██████████| 625/625 [03:51<00:00,  2.70it/s]\n"
     ]
    },
    {
     "name": "stdout",
     "output_type": "stream",
     "text": [
      "Epoch 2/5 - Loss: 0.4014, Accuracy: 0.8256\n"
     ]
    },
    {
     "name": "stderr",
     "output_type": "stream",
     "text": [
      "Training Epoch 3: 100%|██████████| 625/625 [03:51<00:00,  2.70it/s]\n"
     ]
    },
    {
     "name": "stdout",
     "output_type": "stream",
     "text": [
      "Epoch 3/5 - Loss: 0.3740, Accuracy: 0.8329\n"
     ]
    },
    {
     "name": "stderr",
     "output_type": "stream",
     "text": [
      "Training Epoch 4: 100%|██████████| 625/625 [03:51<00:00,  2.70it/s]\n"
     ]
    },
    {
     "name": "stdout",
     "output_type": "stream",
     "text": [
      "Epoch 4/5 - Loss: 0.3659, Accuracy: 0.8386\n"
     ]
    },
    {
     "name": "stderr",
     "output_type": "stream",
     "text": [
      "Training Epoch 5: 100%|██████████| 625/625 [03:51<00:00,  2.70it/s]"
     ]
    },
    {
     "name": "stdout",
     "output_type": "stream",
     "text": [
      "Epoch 5/5 - Loss: 0.3544, Accuracy: 0.8444\n"
     ]
    },
    {
     "name": "stderr",
     "output_type": "stream",
     "text": [
      "\n"
     ]
    }
   ],
   "source": [
    "train(model, train_dataloader, num_epochs=5)"
   ]
  },
  {
   "cell_type": "code",
   "execution_count": 20,
   "metadata": {},
   "outputs": [
    {
     "name": "stderr",
     "output_type": "stream",
     "text": [
      "Evaluating: 100%|██████████| 157/157 [01:34<00:00,  1.65it/s]"
     ]
    },
    {
     "name": "stdout",
     "output_type": "stream",
     "text": [
      "Test Accuracy: 0.8564\n"
     ]
    },
    {
     "name": "stderr",
     "output_type": "stream",
     "text": [
      "\n"
     ]
    }
   ],
   "source": [
    "eval(model, test_dataloader)"
   ]
  },
  {
   "cell_type": "markdown",
   "metadata": {},
   "source": [
    "## Set up LoRA"
   ]
  },
  {
   "cell_type": "code",
   "execution_count": 32,
   "metadata": {},
   "outputs": [],
   "source": [
    "class LoRAParametrization(nn.Module):\n",
    "    def __init__(self, features_in, features_out, rank=4, alpha=1.0):\n",
    "        super().__init__()\n",
    "        self.lora_A = nn.Parameter(torch.zeros((rank, features_out)).to(device))\n",
    "        self.lora_B = nn.Parameter(torch.zeros((features_in, rank)).to(device))\n",
    "        nn.init.normal_(self.lora_A, mean=0.0, std=1)\n",
    "        nn.init.zeros_(self.lora_B)\n",
    "\n",
    "        self.scale = alpha / rank\n",
    "        self.enabled = True\n",
    "    \n",
    "    def forward(self, original_weights):\n",
    "        if self.enabled:\n",
    "            return original_weights + torch.matmul(self.lora_B, self.lora_A).view(original_weights.shape) * self.scale\n",
    "        else:\n",
    "            return original_weights"
   ]
  },
  {
   "cell_type": "code",
   "execution_count": 33,
   "metadata": {},
   "outputs": [],
   "source": [
    "def linear_layer_parametrization(layer, device, rank=4, alpha=1.0):\n",
    "    features_in, features_out = layer.weight.shape\n",
    "    return LoRAParametrization(features_in, features_out, rank, alpha)"
   ]
  },
  {
   "cell_type": "markdown",
   "metadata": {},
   "source": [
    "## Implement LoRA"
   ]
  },
  {
   "cell_type": "code",
   "execution_count": 50,
   "metadata": {},
   "outputs": [
    {
     "name": "stderr",
     "output_type": "stream",
     "text": [
      "Some weights of DistilBertForSequenceClassification were not initialized from the model checkpoint at distilbert-base-uncased and are newly initialized: ['classifier.bias', 'classifier.weight', 'pre_classifier.bias', 'pre_classifier.weight']\n",
      "You should probably TRAIN this model on a down-stream task to be able to use it for predictions and inference.\n"
     ]
    }
   ],
   "source": [
    "model_lora = transformers.DistilBertForSequenceClassification.from_pretrained(\"distilbert-base-uncased\", num_labels=2)\n",
    "model_lora.to(device);"
   ]
  },
  {
   "cell_type": "code",
   "execution_count": 51,
   "metadata": {},
   "outputs": [],
   "source": [
    "for param in model_lora.distilbert.parameters():\n",
    "    param.requires_grad = False\n",
    "for param in model_lora.pre_classifier.parameters():\n",
    "    param.requires_grad = True\n",
    "for param in model_lora.classifier.parameters():\n",
    "    param.requires_grad = True"
   ]
  },
  {
   "cell_type": "code",
   "execution_count": 52,
   "metadata": {},
   "outputs": [],
   "source": [
    "for idx, layer in enumerate(model_lora.distilbert.transformer.layer):\n",
    "    parametrize.register_parametrization(layer.attention.q_lin, \"weight\", linear_layer_parametrization(layer.attention.q_lin, device))\n",
    "    parametrize.register_parametrization(layer.attention.k_lin, \"weight\", linear_layer_parametrization(layer.attention.k_lin, device))\n",
    "    parametrize.register_parametrization(layer.ffn.lin1, \"weight\", linear_layer_parametrization(layer.ffn.lin1, device))\n",
    "    parametrize.register_parametrization(layer.ffn.lin2, \"weight\", linear_layer_parametrization(layer.ffn.lin2, device))"
   ]
  },
  {
   "cell_type": "code",
   "execution_count": 53,
   "metadata": {},
   "outputs": [
    {
     "data": {
      "text/plain": [
       "DistilBertForSequenceClassification(\n",
       "  (distilbert): DistilBertModel(\n",
       "    (embeddings): Embeddings(\n",
       "      (word_embeddings): Embedding(30522, 768, padding_idx=0)\n",
       "      (position_embeddings): Embedding(512, 768)\n",
       "      (LayerNorm): LayerNorm((768,), eps=1e-12, elementwise_affine=True)\n",
       "      (dropout): Dropout(p=0.1, inplace=False)\n",
       "    )\n",
       "    (transformer): Transformer(\n",
       "      (layer): ModuleList(\n",
       "        (0-5): 6 x TransformerBlock(\n",
       "          (attention): MultiHeadSelfAttention(\n",
       "            (dropout): Dropout(p=0.1, inplace=False)\n",
       "            (q_lin): ParametrizedLinear(\n",
       "              in_features=768, out_features=768, bias=True\n",
       "              (parametrizations): ModuleDict(\n",
       "                (weight): ParametrizationList(\n",
       "                  (0): LoRAParametrization()\n",
       "                )\n",
       "              )\n",
       "            )\n",
       "            (k_lin): ParametrizedLinear(\n",
       "              in_features=768, out_features=768, bias=True\n",
       "              (parametrizations): ModuleDict(\n",
       "                (weight): ParametrizationList(\n",
       "                  (0): LoRAParametrization()\n",
       "                )\n",
       "              )\n",
       "            )\n",
       "            (v_lin): Linear(in_features=768, out_features=768, bias=True)\n",
       "            (out_lin): Linear(in_features=768, out_features=768, bias=True)\n",
       "          )\n",
       "          (sa_layer_norm): LayerNorm((768,), eps=1e-12, elementwise_affine=True)\n",
       "          (ffn): FFN(\n",
       "            (dropout): Dropout(p=0.1, inplace=False)\n",
       "            (lin1): ParametrizedLinear(\n",
       "              in_features=768, out_features=3072, bias=True\n",
       "              (parametrizations): ModuleDict(\n",
       "                (weight): ParametrizationList(\n",
       "                  (0): LoRAParametrization()\n",
       "                )\n",
       "              )\n",
       "            )\n",
       "            (lin2): ParametrizedLinear(\n",
       "              in_features=3072, out_features=768, bias=True\n",
       "              (parametrizations): ModuleDict(\n",
       "                (weight): ParametrizationList(\n",
       "                  (0): LoRAParametrization()\n",
       "                )\n",
       "              )\n",
       "            )\n",
       "            (activation): GELUActivation()\n",
       "          )\n",
       "          (output_layer_norm): LayerNorm((768,), eps=1e-12, elementwise_affine=True)\n",
       "        )\n",
       "      )\n",
       "    )\n",
       "  )\n",
       "  (pre_classifier): Linear(in_features=768, out_features=768, bias=True)\n",
       "  (classifier): Linear(in_features=768, out_features=2, bias=True)\n",
       "  (dropout): Dropout(p=0.2, inplace=False)\n",
       ")"
      ]
     },
     "execution_count": 53,
     "metadata": {},
     "output_type": "execute_result"
    }
   ],
   "source": [
    "model_lora"
   ]
  },
  {
   "cell_type": "code",
   "execution_count": 54,
   "metadata": {},
   "outputs": [],
   "source": [
    "def enable_disable_lora(enabled=True):\n",
    "    for idx, layer in enumerate(model_lora.distilbert.transformer.layer):\n",
    "        layer.attention.q_lin.parametrizations[\"weight\"][0].enabled = enabled\n",
    "        layer.attention.k_lin.parametrizations[\"weight\"][0].enabled = enabled\n",
    "        layer.ffn.lin1.parametrizations[\"weight\"][0].enabled = enabled\n",
    "        layer.ffn.lin2.parametrizations[\"weight\"][0].enabled = enabled"
   ]
  },
  {
   "cell_type": "code",
   "execution_count": 55,
   "metadata": {},
   "outputs": [
    {
     "name": "stdout",
     "output_type": "stream",
     "text": [
      "distilbert.transformer.layer.0.attention.q_lin.parametrizations.weight.0.lora_A torch.Size([4, 768])\n",
      "distilbert.transformer.layer.0.attention.q_lin.parametrizations.weight.0.lora_B torch.Size([768, 4])\n",
      "distilbert.transformer.layer.0.attention.k_lin.parametrizations.weight.0.lora_A torch.Size([4, 768])\n",
      "distilbert.transformer.layer.0.attention.k_lin.parametrizations.weight.0.lora_B torch.Size([768, 4])\n",
      "distilbert.transformer.layer.0.ffn.lin1.parametrizations.weight.0.lora_A torch.Size([4, 768])\n",
      "distilbert.transformer.layer.0.ffn.lin1.parametrizations.weight.0.lora_B torch.Size([3072, 4])\n",
      "distilbert.transformer.layer.0.ffn.lin2.parametrizations.weight.0.lora_A torch.Size([4, 3072])\n",
      "distilbert.transformer.layer.0.ffn.lin2.parametrizations.weight.0.lora_B torch.Size([768, 4])\n",
      "distilbert.transformer.layer.1.attention.q_lin.parametrizations.weight.0.lora_A torch.Size([4, 768])\n",
      "distilbert.transformer.layer.1.attention.q_lin.parametrizations.weight.0.lora_B torch.Size([768, 4])\n",
      "distilbert.transformer.layer.1.attention.k_lin.parametrizations.weight.0.lora_A torch.Size([4, 768])\n",
      "distilbert.transformer.layer.1.attention.k_lin.parametrizations.weight.0.lora_B torch.Size([768, 4])\n",
      "distilbert.transformer.layer.1.ffn.lin1.parametrizations.weight.0.lora_A torch.Size([4, 768])\n",
      "distilbert.transformer.layer.1.ffn.lin1.parametrizations.weight.0.lora_B torch.Size([3072, 4])\n",
      "distilbert.transformer.layer.1.ffn.lin2.parametrizations.weight.0.lora_A torch.Size([4, 3072])\n",
      "distilbert.transformer.layer.1.ffn.lin2.parametrizations.weight.0.lora_B torch.Size([768, 4])\n",
      "distilbert.transformer.layer.2.attention.q_lin.parametrizations.weight.0.lora_A torch.Size([4, 768])\n",
      "distilbert.transformer.layer.2.attention.q_lin.parametrizations.weight.0.lora_B torch.Size([768, 4])\n",
      "distilbert.transformer.layer.2.attention.k_lin.parametrizations.weight.0.lora_A torch.Size([4, 768])\n",
      "distilbert.transformer.layer.2.attention.k_lin.parametrizations.weight.0.lora_B torch.Size([768, 4])\n",
      "distilbert.transformer.layer.2.ffn.lin1.parametrizations.weight.0.lora_A torch.Size([4, 768])\n",
      "distilbert.transformer.layer.2.ffn.lin1.parametrizations.weight.0.lora_B torch.Size([3072, 4])\n",
      "distilbert.transformer.layer.2.ffn.lin2.parametrizations.weight.0.lora_A torch.Size([4, 3072])\n",
      "distilbert.transformer.layer.2.ffn.lin2.parametrizations.weight.0.lora_B torch.Size([768, 4])\n",
      "distilbert.transformer.layer.3.attention.q_lin.parametrizations.weight.0.lora_A torch.Size([4, 768])\n",
      "distilbert.transformer.layer.3.attention.q_lin.parametrizations.weight.0.lora_B torch.Size([768, 4])\n",
      "distilbert.transformer.layer.3.attention.k_lin.parametrizations.weight.0.lora_A torch.Size([4, 768])\n",
      "distilbert.transformer.layer.3.attention.k_lin.parametrizations.weight.0.lora_B torch.Size([768, 4])\n",
      "distilbert.transformer.layer.3.ffn.lin1.parametrizations.weight.0.lora_A torch.Size([4, 768])\n",
      "distilbert.transformer.layer.3.ffn.lin1.parametrizations.weight.0.lora_B torch.Size([3072, 4])\n",
      "distilbert.transformer.layer.3.ffn.lin2.parametrizations.weight.0.lora_A torch.Size([4, 3072])\n",
      "distilbert.transformer.layer.3.ffn.lin2.parametrizations.weight.0.lora_B torch.Size([768, 4])\n",
      "distilbert.transformer.layer.4.attention.q_lin.parametrizations.weight.0.lora_A torch.Size([4, 768])\n",
      "distilbert.transformer.layer.4.attention.q_lin.parametrizations.weight.0.lora_B torch.Size([768, 4])\n",
      "distilbert.transformer.layer.4.attention.k_lin.parametrizations.weight.0.lora_A torch.Size([4, 768])\n",
      "distilbert.transformer.layer.4.attention.k_lin.parametrizations.weight.0.lora_B torch.Size([768, 4])\n",
      "distilbert.transformer.layer.4.ffn.lin1.parametrizations.weight.0.lora_A torch.Size([4, 768])\n",
      "distilbert.transformer.layer.4.ffn.lin1.parametrizations.weight.0.lora_B torch.Size([3072, 4])\n",
      "distilbert.transformer.layer.4.ffn.lin2.parametrizations.weight.0.lora_A torch.Size([4, 3072])\n",
      "distilbert.transformer.layer.4.ffn.lin2.parametrizations.weight.0.lora_B torch.Size([768, 4])\n",
      "distilbert.transformer.layer.5.attention.q_lin.parametrizations.weight.0.lora_A torch.Size([4, 768])\n",
      "distilbert.transformer.layer.5.attention.q_lin.parametrizations.weight.0.lora_B torch.Size([768, 4])\n",
      "distilbert.transformer.layer.5.attention.k_lin.parametrizations.weight.0.lora_A torch.Size([4, 768])\n",
      "distilbert.transformer.layer.5.attention.k_lin.parametrizations.weight.0.lora_B torch.Size([768, 4])\n",
      "distilbert.transformer.layer.5.ffn.lin1.parametrizations.weight.0.lora_A torch.Size([4, 768])\n",
      "distilbert.transformer.layer.5.ffn.lin1.parametrizations.weight.0.lora_B torch.Size([3072, 4])\n",
      "distilbert.transformer.layer.5.ffn.lin2.parametrizations.weight.0.lora_A torch.Size([4, 3072])\n",
      "distilbert.transformer.layer.5.ffn.lin2.parametrizations.weight.0.lora_B torch.Size([768, 4])\n",
      "pre_classifier.weight torch.Size([768, 768])\n",
      "pre_classifier.bias torch.Size([768])\n",
      "classifier.weight torch.Size([2, 768])\n",
      "classifier.bias torch.Size([2])\n"
     ]
    }
   ],
   "source": [
    "for name, param in model_lora.named_parameters():\n",
    "    if param.requires_grad:\n",
    "        print(name, param.shape)"
   ]
  },
  {
   "cell_type": "code",
   "execution_count": 56,
   "metadata": {},
   "outputs": [],
   "source": [
    "enable_disable_lora(enabled=True)"
   ]
  },
  {
   "cell_type": "markdown",
   "metadata": {},
   "source": [
    "## Train LoRA model"
   ]
  },
  {
   "cell_type": "code",
   "execution_count": 57,
   "metadata": {},
   "outputs": [
    {
     "name": "stderr",
     "output_type": "stream",
     "text": [
      "Training Epoch 1: 100%|██████████| 625/625 [10:18<00:00,  1.01it/s]\n"
     ]
    },
    {
     "name": "stdout",
     "output_type": "stream",
     "text": [
      "Epoch 1/3 - Loss: 0.3689, Accuracy: 0.8340\n"
     ]
    },
    {
     "name": "stderr",
     "output_type": "stream",
     "text": [
      "Training Epoch 2: 100%|██████████| 625/625 [09:13<00:00,  1.13it/s]\n"
     ]
    },
    {
     "name": "stdout",
     "output_type": "stream",
     "text": [
      "Epoch 2/3 - Loss: 0.2647, Accuracy: 0.8906\n"
     ]
    },
    {
     "name": "stderr",
     "output_type": "stream",
     "text": [
      "Training Epoch 3: 100%|██████████| 625/625 [09:10<00:00,  1.14it/s]"
     ]
    },
    {
     "name": "stdout",
     "output_type": "stream",
     "text": [
      "Epoch 3/3 - Loss: 0.2423, Accuracy: 0.9014\n"
     ]
    },
    {
     "name": "stderr",
     "output_type": "stream",
     "text": [
      "\n"
     ]
    }
   ],
   "source": [
    "train(model_lora, train_dataloader, num_epochs=3)"
   ]
  },
  {
   "cell_type": "code",
   "execution_count": 58,
   "metadata": {},
   "outputs": [
    {
     "name": "stderr",
     "output_type": "stream",
     "text": [
      "Evaluating: 100%|██████████| 157/157 [01:36<00:00,  1.63it/s]"
     ]
    },
    {
     "name": "stdout",
     "output_type": "stream",
     "text": [
      "Test Accuracy: 0.9090\n"
     ]
    },
    {
     "name": "stderr",
     "output_type": "stream",
     "text": [
      "\n"
     ]
    }
   ],
   "source": [
    "eval(model_lora, test_dataloader)"
   ]
  },
  {
   "cell_type": "markdown",
   "metadata": {},
   "source": [
    "## Analysis"
   ]
  },
  {
   "cell_type": "markdown",
   "metadata": {},
   "source": [
    "By implementing LoRA on the Q, K and FF layers, we are able to achieve much better test performance than just finetuning the classifier layers. Additionally, finetuning the entire model is not feasible on my laptop. Instead LoRA allows us to achieve that balance and still get the performance boost! "
   ]
  },
  {
   "cell_type": "markdown",
   "metadata": {},
   "source": []
  }
 ],
 "metadata": {
  "kernelspec": {
   "display_name": "pytorch_2_0",
   "language": "python",
   "name": "python3"
  },
  "language_info": {
   "codemirror_mode": {
    "name": "ipython",
    "version": 3
   },
   "file_extension": ".py",
   "mimetype": "text/x-python",
   "name": "python",
   "nbconvert_exporter": "python",
   "pygments_lexer": "ipython3",
   "version": "3.11.9"
  }
 },
 "nbformat": 4,
 "nbformat_minor": 2
}
