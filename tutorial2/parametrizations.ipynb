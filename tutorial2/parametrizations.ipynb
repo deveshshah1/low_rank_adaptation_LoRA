{
 "cells": [
  {
   "cell_type": "code",
   "execution_count": 1,
   "metadata": {},
   "outputs": [],
   "source": [
    "import torch\n",
    "import torch.nn as nn\n",
    "import torch.nn.utils.parametrize as parametrize"
   ]
  },
  {
   "cell_type": "code",
   "execution_count": 3,
   "metadata": {},
   "outputs": [
    {
     "name": "stdout",
     "output_type": "stream",
     "text": [
      "tensor([[0.3273, 0.9011, 0.4284],\n",
      "        [0.9011, 0.4835, 0.8893],\n",
      "        [0.4284, 0.8893, 0.1873]])\n"
     ]
    }
   ],
   "source": [
    "# assume we want a square linear layer with symmetric weights (X = X^T)\n",
    "# only way to do this is to copy the upper triangular part of the matrix to the lower triangular part\n",
    "\n",
    "def symmetric(X):\n",
    "    return X.triu() + X.triu(1).transpose(-1, -2)\n",
    "\n",
    "X = torch.rand(3, 3)\n",
    "A = symmetric(X)\n",
    "assert torch.allclose(A, A.T)\n",
    "print(A)"
   ]
  },
  {
   "cell_type": "code",
   "execution_count": 14,
   "metadata": {},
   "outputs": [],
   "source": [
    "class LinearSymmetric(nn.Module):\n",
    "    def __init__(self, n_features):\n",
    "        super().__init__()\n",
    "        self.weight = nn.Parameter(torch.rand(n_features, n_features))\n",
    "    \n",
    "    def forward(self, x):\n",
    "        A = symmetric(self.weight)\n",
    "        return x @ A"
   ]
  },
  {
   "cell_type": "code",
   "execution_count": 15,
   "metadata": {},
   "outputs": [],
   "source": [
    "layer = LinearSymmetric(3)\n",
    "out = layer(torch.rand(8, 3))"
   ]
  },
  {
   "cell_type": "code",
   "execution_count": 17,
   "metadata": {},
   "outputs": [],
   "source": [
    "class Symmetric(nn.Module):\n",
    "    def forward(self, X):\n",
    "        return X.triu() + X.triu(1).transpose(-1, -2)"
   ]
  },
  {
   "cell_type": "code",
   "execution_count": 18,
   "metadata": {},
   "outputs": [
    {
     "data": {
      "text/plain": [
       "ParametrizedLinear(\n",
       "  in_features=3, out_features=3, bias=True\n",
       "  (parametrizations): ModuleDict(\n",
       "    (weight): ParametrizationList(\n",
       "      (0): Symmetric()\n",
       "    )\n",
       "  )\n",
       ")"
      ]
     },
     "execution_count": 18,
     "metadata": {},
     "output_type": "execute_result"
    }
   ],
   "source": [
    "layer = nn.Linear(3, 3)\n",
    "parametrize.register_parametrization(layer, \"weight\", Symmetric())"
   ]
  },
  {
   "cell_type": "code",
   "execution_count": 19,
   "metadata": {},
   "outputs": [
    {
     "name": "stdout",
     "output_type": "stream",
     "text": [
      "tensor([[ 0.2497, -0.3045, -0.4517],\n",
      "        [-0.3045,  0.3438, -0.3698],\n",
      "        [-0.4517, -0.3698, -0.2481]], grad_fn=<AddBackward0>)\n"
     ]
    }
   ],
   "source": [
    "A = layer.weight\n",
    "assert torch.allclose(A, A.T)\n",
    "print(A)"
   ]
  },
  {
   "cell_type": "code",
   "execution_count": 20,
   "metadata": {},
   "outputs": [],
   "source": [
    "class Skew(nn.Module):\n",
    "    def forward(self, X):\n",
    "        return X.triu() - X.triu(1).transpose(-1, -2)"
   ]
  },
  {
   "cell_type": "code",
   "execution_count": 21,
   "metadata": {},
   "outputs": [
    {
     "name": "stdout",
     "output_type": "stream",
     "text": [
      "tensor([[-0.0663,  0.0441,  0.0988],\n",
      "        [-0.0441,  0.1102, -0.1088],\n",
      "        [-0.0988,  0.1088, -0.0356]], grad_fn=<SelectBackward0>)\n",
      "tensor([[ 0.0100,  0.1078,  0.0305],\n",
      "        [-0.1078, -0.0107,  0.1232],\n",
      "        [-0.0305, -0.1232, -0.0985]], grad_fn=<SelectBackward0>)\n"
     ]
    }
   ],
   "source": [
    "cnn = nn.Conv2d(in_channels=5, out_channels=8, kernel_size=3)\n",
    "parametrize.register_parametrization(cnn, \"weight\", Skew())\n",
    "print(cnn.weight[0, 1])\n",
    "print(cnn.weight[2, 2])"
   ]
  },
  {
   "cell_type": "code",
   "execution_count": 23,
   "metadata": {},
   "outputs": [
    {
     "name": "stdout",
     "output_type": "stream",
     "text": [
      "Unparametrized: \n",
      "Linear(in_features=3, out_features=3, bias=True)\n",
      "Parametrized: \n",
      "ParametrizedLinear(\n",
      "  in_features=3, out_features=3, bias=True\n",
      "  (parametrizations): ModuleDict(\n",
      "    (weight): ParametrizationList(\n",
      "      (0): Symmetric()\n",
      "    )\n",
      "  )\n",
      ")\n"
     ]
    }
   ],
   "source": [
    "layer = nn.Linear(3, 3)\n",
    "print(f\"Unparametrized: \\n{layer}\")\n",
    "parametrize.register_parametrization(layer, \"weight\", Symmetric())\n",
    "print(f\"Parametrized: \\n{layer}\")"
   ]
  },
  {
   "cell_type": "code",
   "execution_count": 24,
   "metadata": {},
   "outputs": [
    {
     "name": "stdout",
     "output_type": "stream",
     "text": [
      "ModuleDict(\n",
      "  (weight): ParametrizationList(\n",
      "    (0): Symmetric()\n",
      "  )\n",
      ")\n",
      "ParametrizationList(\n",
      "  (0): Symmetric()\n",
      ")\n"
     ]
    }
   ],
   "source": [
    "print(layer.parametrizations)\n",
    "print(layer.parametrizations.weight)"
   ]
  },
  {
   "cell_type": "code",
   "execution_count": 25,
   "metadata": {},
   "outputs": [
    {
     "data": {
      "text/plain": [
       "Symmetric()"
      ]
     },
     "execution_count": 25,
     "metadata": {},
     "output_type": "execute_result"
    }
   ],
   "source": [
    "layer.parametrizations.weight[0]"
   ]
  },
  {
   "cell_type": "code",
   "execution_count": 26,
   "metadata": {},
   "outputs": [
    {
     "name": "stdout",
     "output_type": "stream",
     "text": [
      "{'bias': Parameter containing:\n",
      "tensor([-0.5430,  0.3678,  0.4536], requires_grad=True), 'parametrizations.weight.original': Parameter containing:\n",
      "tensor([[-0.4718, -0.3407, -0.0715],\n",
      "        [ 0.2371,  0.2192, -0.4169],\n",
      "        [ 0.2739, -0.5155, -0.4661]], requires_grad=True)}\n"
     ]
    }
   ],
   "source": [
    "print(dict(layer.named_parameters()))"
   ]
  },
  {
   "cell_type": "code",
   "execution_count": 27,
   "metadata": {},
   "outputs": [
    {
     "data": {
      "text/plain": [
       "Parameter containing:\n",
       "tensor([[-0.4718, -0.3407, -0.0715],\n",
       "        [ 0.2371,  0.2192, -0.4169],\n",
       "        [ 0.2739, -0.5155, -0.4661]], requires_grad=True)"
      ]
     },
     "execution_count": 27,
     "metadata": {},
     "output_type": "execute_result"
    }
   ],
   "source": [
    "layer.parametrizations.weight.original"
   ]
  },
  {
   "cell_type": "code",
   "execution_count": 28,
   "metadata": {},
   "outputs": [
    {
     "name": "stdout",
     "output_type": "stream",
     "text": [
      "tensor(0., grad_fn=<DistBackward0>)\n"
     ]
    }
   ],
   "source": [
    "symmetric = Symmetric()\n",
    "weight_orig = layer.parametrizations.weight.original\n",
    "print(torch.dist(layer.weight, symmetric(weight_orig)))"
   ]
  },
  {
   "cell_type": "code",
   "execution_count": 29,
   "metadata": {},
   "outputs": [
    {
     "name": "stdout",
     "output_type": "stream",
     "text": [
      "Computing the Parametrization\n",
      "Here, layer.weight is recomputed every time we call it\n",
      "Computing the Parametrization\n",
      "Computing the Parametrization\n",
      "Computing the Parametrization\n",
      "Here, layer.weight is recomputed only once\n",
      "Computing the Parametrization\n"
     ]
    }
   ],
   "source": [
    "class NoisyParametrization(nn.Module):\n",
    "    def forward(self, X):\n",
    "        print(\"Computing the Parametrization\")\n",
    "        return X\n",
    "    \n",
    "layer = nn.Linear(4, 4)\n",
    "parametrize.register_parametrization(layer, \"weight\", NoisyParametrization())\n",
    "print(\"Here, layer.weight is recomputed every time we call it\")\n",
    "foo = layer.weight + layer.weight.T\n",
    "bar = layer.weight.sum()\n",
    "with parametrize.cached():\n",
    "    print(\"Here, layer.weight is recomputed only once\")\n",
    "    foo = layer.weight + layer.weight.T\n",
    "    bar = layer.weight.sum()"
   ]
  },
  {
   "cell_type": "code",
   "execution_count": 33,
   "metadata": {},
   "outputs": [
    {
     "data": {
      "text/plain": [
       "ParametrizedLinear(\n",
       "  in_features=3, out_features=3, bias=True\n",
       "  (parametrizations): ModuleDict(\n",
       "    (weight): ParametrizationList(\n",
       "      (0): Symmetric()\n",
       "      (1): CayleyMap()\n",
       "    )\n",
       "  )\n",
       ")"
      ]
     },
     "execution_count": 33,
     "metadata": {},
     "output_type": "execute_result"
    }
   ],
   "source": [
    "class CayleyMap(nn.Module):\n",
    "    def __init__(self, n):\n",
    "        super().__init__()\n",
    "        self.register_buffer(\"Id\", torch.eye(n))\n",
    "    \n",
    "    def forward(self, X):\n",
    "        return torch.linalg.solve(self.Id - X, self.Id + X)\n",
    "    \n",
    "layer = nn.Linear(3, 3)\n",
    "parametrize.register_parametrization(layer, \"weight\", Symmetric())\n",
    "parametrize.register_parametrization(layer, \"weight\", CayleyMap(3))\n",
    "layer"
   ]
  },
  {
   "cell_type": "code",
   "execution_count": 34,
   "metadata": {},
   "outputs": [
    {
     "name": "stdout",
     "output_type": "stream",
     "text": [
      "tensor(1077.7062, grad_fn=<DistBackward0>)\n"
     ]
    }
   ],
   "source": [
    "X = layer.weight\n",
    "print(torch.dist(X.T @ X, torch.eye(3)))"
   ]
  },
  {
   "cell_type": "code",
   "execution_count": 36,
   "metadata": {},
   "outputs": [],
   "source": [
    "# def right_inverse(self, X: Tensor) -> Tensor\n",
    "\n",
    "class Skew(nn.Module):\n",
    "    def forward(self, X):\n",
    "        A = X.triu(1)\n",
    "        return A - A.transpose(-1, -2)\n",
    "\n",
    "    def right_inverse(self, A):\n",
    "        return A.triu(1)"
   ]
  },
  {
   "cell_type": "code",
   "execution_count": 37,
   "metadata": {},
   "outputs": [
    {
     "name": "stdout",
     "output_type": "stream",
     "text": [
      "tensor(0., grad_fn=<DistBackward0>)\n"
     ]
    }
   ],
   "source": [
    "layer = nn.Linear(3, 3)\n",
    "parametrize.register_parametrization(layer, \"weight\", Skew())\n",
    "X = torch.rand(3, 3)\n",
    "X = X - X.T\n",
    "layer.weight = X\n",
    "print(torch.dist(layer.weight, X))"
   ]
  },
  {
   "cell_type": "code",
   "execution_count": 42,
   "metadata": {},
   "outputs": [
    {
     "name": "stdout",
     "output_type": "stream",
     "text": [
      "Before:\n",
      "Linear(in_features=3, out_features=3, bias=True)\n",
      "Parameter containing:\n",
      "tensor([[-0.3721,  0.1208,  0.1343],\n",
      "        [-0.0668,  0.2415,  0.3783],\n",
      "        [ 0.2588,  0.1037,  0.5136]], requires_grad=True)\n",
      "\n",
      "Parametrized:\n",
      "ParametrizedLinear(\n",
      "  in_features=3, out_features=3, bias=True\n",
      "  (parametrizations): ModuleDict(\n",
      "    (weight): ParametrizationList(\n",
      "      (0): Skew()\n",
      "    )\n",
      "  )\n",
      ")\n",
      "tensor([[ 0.0000,  0.1208,  0.1343],\n",
      "        [-0.1208,  0.0000,  0.3783],\n",
      "        [-0.1343, -0.3783,  0.0000]], grad_fn=<SubBackward0>)\n",
      "\n",
      "After:\n",
      "Linear(in_features=3, out_features=3, bias=True)\n",
      "Parameter containing:\n",
      "tensor([[0.0000, 0.1208, 0.1343],\n",
      "        [0.0000, 0.0000, 0.3783],\n",
      "        [0.0000, 0.0000, 0.0000]], requires_grad=True)\n"
     ]
    }
   ],
   "source": [
    "layer = nn.Linear(3, 3)\n",
    "print(\"Before:\")\n",
    "print(layer)\n",
    "print(layer.weight)\n",
    "parametrize.register_parametrization(layer, \"weight\", Skew())\n",
    "print(\"\\nParametrized:\")\n",
    "print(layer)\n",
    "print(layer.weight)\n",
    "parametrize.remove_parametrizations(layer, \"weight\", leave_parametrized=False)\n",
    "print(\"\\nAfter:\")\n",
    "print(layer)\n",
    "print(layer.weight)"
   ]
  },
  {
   "cell_type": "code",
   "execution_count": 43,
   "metadata": {},
   "outputs": [
    {
     "data": {
      "text/plain": [
       "Linear(in_features=3, out_features=3, bias=True)"
      ]
     },
     "execution_count": 43,
     "metadata": {},
     "output_type": "execute_result"
    }
   ],
   "source": [
    "layer"
   ]
  },
  {
   "cell_type": "code",
   "execution_count": null,
   "metadata": {},
   "outputs": [],
   "source": []
  }
 ],
 "metadata": {
  "kernelspec": {
   "display_name": "pytorch_2_0",
   "language": "python",
   "name": "python3"
  },
  "language_info": {
   "codemirror_mode": {
    "name": "ipython",
    "version": 3
   },
   "file_extension": ".py",
   "mimetype": "text/x-python",
   "name": "python",
   "nbconvert_exporter": "python",
   "pygments_lexer": "ipython3",
   "version": "3.11.9"
  }
 },
 "nbformat": 4,
 "nbformat_minor": 2
}
