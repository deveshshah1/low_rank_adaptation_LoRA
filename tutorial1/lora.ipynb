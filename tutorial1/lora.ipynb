{
 "cells": [
  {
   "cell_type": "markdown",
   "metadata": {},
   "source": [
    "# LoRA implementation with PyTorch"
   ]
  },
  {
   "cell_type": "markdown",
   "metadata": {},
   "source": [
    "This is the implementation from the tutorial. I will expand on this implementation in the other file lora2.ipynb"
   ]
  },
  {
   "cell_type": "code",
   "execution_count": 31,
   "metadata": {},
   "outputs": [],
   "source": [
    "import torch\n",
    "import torchvision.datasets as datasets\n",
    "import torchvision.transforms as transforms\n",
    "import torch.nn as nn\n",
    "import matplotlib.pyplot as plt\n",
    "import tqdm as tqdm"
   ]
  },
  {
   "cell_type": "code",
   "execution_count": 32,
   "metadata": {},
   "outputs": [],
   "source": [
    "# Make the model deterministic\n",
    "_ = torch.manual_seed(0)"
   ]
  },
  {
   "cell_type": "markdown",
   "metadata": {},
   "source": [
    "We will be training a network to classify MNIST digits and then finetune the network on a particular digit on which it didn't perform well"
   ]
  },
  {
   "cell_type": "code",
   "execution_count": 33,
   "metadata": {},
   "outputs": [
    {
     "name": "stdout",
     "output_type": "stream",
     "text": [
      "mps\n"
     ]
    }
   ],
   "source": [
    "transform = transforms.Compose([transforms.ToTensor(), transforms.Normalize((0.1307,), (0.3081,))])\n",
    "\n",
    "# load the mnist data\n",
    "mnist_trainset = datasets.MNIST(root=\"./data\", train=True, download=True, transform=transform)\n",
    "train_loader = torch.utils.data.DataLoader(mnist_trainset, batch_size=32, shuffle=True)\n",
    "\n",
    "# load the mnist test set\n",
    "mnist_testset = datasets.MNIST(root=\"./data\", train=False, download=True, transform=transform)\n",
    "test_loader = torch.utils.data.DataLoader(mnist_testset, batch_size=32, shuffle=False)\n",
    "\n",
    "# deifine the device\n",
    "device = torch.device(\"cuda:0\" if torch.cuda.is_available() else \"mps\" if torch.backends.mps.is_available() else \"cpu\")\n",
    "print(device)"
   ]
  },
  {
   "cell_type": "markdown",
   "metadata": {},
   "source": [
    "Create the neural network to classify the digits, making it overly complicated to better show the power of LORA"
   ]
  },
  {
   "cell_type": "code",
   "execution_count": 34,
   "metadata": {},
   "outputs": [],
   "source": [
    "class Model(nn.Module):\n",
    "    def __init__(self, hidden_size1=1000, hidden_size2=2000):\n",
    "        super(Model, self).__init__()\n",
    "        self.fc1 = nn.Linear(28 * 28, hidden_size1)\n",
    "        self.fc2 = nn.Linear(hidden_size1, hidden_size2)\n",
    "        self.fc3 = nn.Linear(hidden_size2, 10)\n",
    "        self.relu = nn.ReLU()\n",
    "    \n",
    "    def forward(self, img):\n",
    "        x = img.view(-1, 28*28)\n",
    "        x = self.relu(self.fc1(x))\n",
    "        x = self.relu(self.fc2(x))\n",
    "        x = self.fc3(x)\n",
    "        return x\n",
    "\n",
    "model = Model().to(device)"
   ]
  },
  {
   "cell_type": "markdown",
   "metadata": {},
   "source": [
    "Train the network only for 1 epoch to simulate a complete general pre-training on the data"
   ]
  },
  {
   "cell_type": "code",
   "execution_count": 35,
   "metadata": {},
   "outputs": [
    {
     "name": "stderr",
     "output_type": "stream",
     "text": [
      "Epoch 1/1: 100%|██████████| 1875/1875 [00:07<00:00, 237.28it/s]\n"
     ]
    }
   ],
   "source": [
    "def train(train_loader, model, epochs=5):\n",
    "    cross_entropy_loss = nn.CrossEntropyLoss()\n",
    "    optimizer = torch.optim.Adam(model.parameters(), lr=0.001)\n",
    "\n",
    "    for epoch in range(epochs):\n",
    "        model.train()\n",
    "        loss_sum = 0\n",
    "        num_iterations = 0\n",
    "\n",
    "        for data in tqdm.tqdm(train_loader, desc=f\"Epoch {epoch+1}/{epochs}\"):\n",
    "            num_iterations += 1\n",
    "            x, y = data\n",
    "            x, y = x.to(device), y.to(device)\n",
    "            optimizer.zero_grad()\n",
    "            output = model(x.view(-1, 28*28))\n",
    "            loss = cross_entropy_loss(output, y)\n",
    "            loss_sum = loss_sum + loss.item()\n",
    "            avg_loss = loss_sum / num_iterations\n",
    "            loss.backward()\n",
    "            optimizer.step()\n",
    "\n",
    "train(train_loader, model, epochs=1)"
   ]
  },
  {
   "cell_type": "markdown",
   "metadata": {},
   "source": [
    "Keep a copy of the original weights (clone them) so later we can prove that fine-tuning with LORA doesn't alter the original weights"
   ]
  },
  {
   "cell_type": "code",
   "execution_count": 36,
   "metadata": {},
   "outputs": [],
   "source": [
    "original_weights = {}\n",
    "for name, param in model.named_parameters():\n",
    "    original_weights[name] = param.clone().detach()"
   ]
  },
  {
   "cell_type": "markdown",
   "metadata": {},
   "source": [
    "Test the performance of the pretrained network. As we can see, the network performs poorly on the digit 9. Let's finetune it on the digit 9"
   ]
  },
  {
   "cell_type": "code",
   "execution_count": 37,
   "metadata": {},
   "outputs": [
    {
     "name": "stderr",
     "output_type": "stream",
     "text": [
      "Testing: 100%|██████████| 313/313 [00:03<00:00, 88.56it/s]"
     ]
    },
    {
     "name": "stdout",
     "output_type": "stream",
     "text": [
      "Accuracy: 96.69%\n",
      "Class 0: 9 wrong predictions\n",
      "Class 1: 27 wrong predictions\n",
      "Class 2: 40 wrong predictions\n",
      "Class 3: 52 wrong predictions\n",
      "Class 4: 21 wrong predictions\n",
      "Class 5: 34 wrong predictions\n",
      "Class 6: 33 wrong predictions\n",
      "Class 7: 33 wrong predictions\n",
      "Class 8: 14 wrong predictions\n",
      "Class 9: 68 wrong predictions\n"
     ]
    },
    {
     "name": "stderr",
     "output_type": "stream",
     "text": [
      "\n"
     ]
    }
   ],
   "source": [
    "def test():\n",
    "    correct = 0\n",
    "    total = 0\n",
    "    wrong_counts = [0 for i in range(10)]\n",
    "\n",
    "    with torch.no_grad():\n",
    "        for data in tqdm.tqdm(test_loader, desc=\"Testing\"):\n",
    "            x, y = data\n",
    "            x, y = x.to(device), y.to(device)\n",
    "            output = model(x.view(-1, 28*28))\n",
    "            for idx, i in enumerate(output):\n",
    "                if torch.argmax(i) == y[idx]:\n",
    "                    correct += 1\n",
    "                else:\n",
    "                    wrong_counts[y[idx]] += 1\n",
    "                total += 1\n",
    "            \n",
    "    print(f\"Accuracy: {correct / total * 100:.2f}%\")\n",
    "    for i in range(len(wrong_counts)):\n",
    "        print(f\"Class {i}: {wrong_counts[i]} wrong predictions\")\n",
    "\n",
    "test()"
   ]
  },
  {
   "cell_type": "markdown",
   "metadata": {},
   "source": [
    "Let's visualize how many parameters are in the original network, before introducing LoRA matricies"
   ]
  },
  {
   "cell_type": "code",
   "execution_count": 38,
   "metadata": {},
   "outputs": [
    {
     "name": "stdout",
     "output_type": "stream",
     "text": [
      "Layer 1: W: torch.Size([1000, 784]), b: torch.Size([1000])\n",
      "Layer 2: W: torch.Size([2000, 1000]), b: torch.Size([2000])\n",
      "Layer 3: W: torch.Size([10, 2000]), b: torch.Size([10])\n",
      "Total parameters: 2,807,010\n"
     ]
    }
   ],
   "source": [
    "# print the size of the weight matrices of the network\n",
    "# save the count of the total number of parameters\n",
    "total_parameters_original = 0\n",
    "for idx, layer in enumerate([model.fc1, model.fc2, model.fc3]):\n",
    "    total_parameters_original += layer.weight.nelement() + layer.bias.nelement()\n",
    "    print(f\"Layer {idx+1}: W: {layer.weight.shape}, b: {layer.bias.shape}\")\n",
    "print(f\"Total parameters: {total_parameters_original:,}\")"
   ]
  },
  {
   "cell_type": "markdown",
   "metadata": {},
   "source": [
    "Define the LoRA parameterization as described in the paper. The full details are on PyTorch"
   ]
  },
  {
   "cell_type": "code",
   "execution_count": 39,
   "metadata": {},
   "outputs": [],
   "source": [
    "class LoRAParameterization(nn.Module):\n",
    "    def __init__(self, features_in, features_out, rank=1, alpha=1.0, device=\"cpu\"):\n",
    "        super().__init__()\n",
    "        # section 4.1 of paper: \n",
    "        # we use a random gaussian initialization for A and zero for B. So deltaW = BA is zero at the start of training\n",
    "        self.lora_A = nn.Parameter(torch.zeros((rank, features_out)).to(device))\n",
    "        self.lora_B = nn.Parameter(torch.zeros((features_in, rank)).to(device))\n",
    "        nn.init.normal_(self.lora_A, mean=0.0, std=1)\n",
    "        nn.init.zeros_(self.lora_B)\n",
    "\n",
    "        # Section 4.1 of the paper:\n",
    "        # We then scale deltaW by alpha / rank, where alpha is a constant in r\n",
    "        # When optimizing with Adam, tuning alpha is roughly the same as tuning the learning rate if we scale the init appropriately\n",
    "        # As a result, we simply set alpha to the first r we try and dont tune it\n",
    "        # This scaling helps to reduce the need to retune hyperparams when we vary r\n",
    "        self.scale = alpha / rank\n",
    "        self.enabled = True\n",
    "\n",
    "    def forward(self, original_weights):\n",
    "        if self.enabled:\n",
    "            # Return X + (BA)*scale\n",
    "            return original_weights + torch.matmul(self.lora_B, self.lora_A).view(original_weights.shape) * self.scale\n",
    "        else:\n",
    "            return original_weights"
   ]
  },
  {
   "cell_type": "markdown",
   "metadata": {},
   "source": [
    "Add the parameterization to the network"
   ]
  },
  {
   "cell_type": "code",
   "execution_count": 40,
   "metadata": {},
   "outputs": [
    {
     "data": {
      "text/plain": [
       "ParametrizedLinear(\n",
       "  in_features=2000, out_features=10, bias=True\n",
       "  (parametrizations): ModuleDict(\n",
       "    (weight): ParametrizationList(\n",
       "      (0): LoRAParameterization()\n",
       "    )\n",
       "  )\n",
       ")"
      ]
     },
     "execution_count": 40,
     "metadata": {},
     "output_type": "execute_result"
    }
   ],
   "source": [
    "import torch.nn.utils.parametrize as parametrize\n",
    "\n",
    "def linear_layer_parameterization(layer, device, rank=1, lora_alpha=1):\n",
    "    # only add the parameterization to the weight matrix. ignore the bias\n",
    "\n",
    "    # From section 4.2 of the paper:\n",
    "    # We limit our study to only adapting the attention weights for downstream tasks and freeze the mlp modules (so they are not trained in downstream tasks) both for\n",
    "    # ...\n",
    "    # We leave the emperical investigation of [...] and biases to a future work\n",
    "    features_in, features_out = layer.weight.shape\n",
    "    return LoRAParameterization(features_in=features_in, features_out=features_out, rank=rank, alpha=lora_alpha, device=device)\n",
    "\n",
    "parametrize.register_parametrization(\n",
    "    model.fc1, \"weight\", linear_layer_parameterization(model.fc1, device)\n",
    ")\n",
    "parametrize.register_parametrization(\n",
    "    model.fc2, \"weight\", linear_layer_parameterization(model.fc2, device)\n",
    ")   \n",
    "parametrize.register_parametrization(\n",
    "    model.fc3, \"weight\", linear_layer_parameterization(model.fc3, device)\n",
    ")\n"
   ]
  },
  {
   "cell_type": "code",
   "execution_count": 41,
   "metadata": {},
   "outputs": [],
   "source": [
    "def enable_disable_lora(enabled=True):\n",
    "    for layer in [model.fc1, model.fc2, model.fc3]:\n",
    "        layer.parametrizations[\"weight\"][0].enabled = enabled"
   ]
  },
  {
   "cell_type": "markdown",
   "metadata": {},
   "source": [
    "Display the total number of parameters added by LoRA"
   ]
  },
  {
   "cell_type": "code",
   "execution_count": 42,
   "metadata": {},
   "outputs": [
    {
     "name": "stdout",
     "output_type": "stream",
     "text": [
      "Layer 1: W: torch.Size([1000, 784]), b: torch.Size([1000]), Lora_A: torch.Size([1, 784]), Lora_B: torch.Size([1000, 1])\n",
      "Layer 2: W: torch.Size([2000, 1000]), b: torch.Size([2000]), Lora_A: torch.Size([1, 1000]), Lora_B: torch.Size([2000, 1])\n",
      "Layer 3: W: torch.Size([10, 2000]), b: torch.Size([10]), Lora_A: torch.Size([1, 2000]), Lora_B: torch.Size([10, 1])\n",
      "Total number of parameters (original): 2,807,010\n",
      "Total number of parameters (original + LoRA): 2,813,804\n",
      "Total number of parameters (LoRA): 6,794\n",
      "Parameters increment: 0.24%\n"
     ]
    }
   ],
   "source": [
    "total_parameters_lora = 0\n",
    "total_parameters_non_lora = 0\n",
    "\n",
    "for idx, layer in enumerate([model.fc1, model.fc2, model.fc3]):\n",
    "    total_parameters_lora += layer.parametrizations[\"weight\"][0].lora_A.nelement() + layer.parametrizations[\"weight\"][0].lora_B.nelement()\n",
    "    total_parameters_non_lora += layer.weight.nelement() + layer.bias.nelement()\n",
    "    print(f\"Layer {idx+1}: W: {layer.weight.shape}, b: {layer.bias.shape}, Lora_A: {layer.parametrizations['weight'][0].lora_A.shape}, Lora_B: {layer.parametrizations['weight'][0].lora_B.shape}\")\n",
    "\n",
    "# The non-LoRA paramters count must match the original network\n",
    "assert total_parameters_non_lora == total_parameters_original\n",
    "print(f\"Total number of parameters (original): {total_parameters_original:,}\")\n",
    "print(f\"Total number of parameters (original + LoRA): {total_parameters_original + total_parameters_lora:,}\")\n",
    "print(f\"Total number of parameters (LoRA): {total_parameters_lora:,}\")\n",
    "parameters_increment = (total_parameters_lora / total_parameters_non_lora) * 100\n",
    "print(f\"Parameters increment: {parameters_increment:.2f}%\")"
   ]
  },
  {
   "cell_type": "code",
   "execution_count": 43,
   "metadata": {},
   "outputs": [
    {
     "name": "stdout",
     "output_type": "stream",
     "text": [
      "Freezing non-LoRA parameter fc1.bias\n",
      "Freezing non-LoRA parameter fc1.parametrizations.weight.original\n",
      "Freezing non-LoRA parameter fc2.bias\n",
      "Freezing non-LoRA parameter fc2.parametrizations.weight.original\n",
      "Freezing non-LoRA parameter fc3.bias\n",
      "Freezing non-LoRA parameter fc3.parametrizations.weight.original\n"
     ]
    },
    {
     "name": "stderr",
     "output_type": "stream",
     "text": [
      "Epoch 1/1: 100%|██████████| 372/372 [00:01<00:00, 193.83it/s]\n"
     ]
    }
   ],
   "source": [
    "# Freeze all the parameters of the original model and only fine tune the ones introduced by LoRA. Then finetune the model on the digit 9 and only for 100 batches.\n",
    "# Freeze the non-LoRA parameters\n",
    "for name, param in model.named_parameters():\n",
    "    if \"lora\" not in name: \n",
    "        print(f\"Freezing non-LoRA parameter {name}\")\n",
    "        param.requires_grad = False\n",
    "\n",
    "# Load the MNIST dataset again, by keeping only the digit 9\n",
    "mnist_trainset = datasets.MNIST(root=\"./data\", train=True, download=True, transform=transform)\n",
    "exclude_indices = mnist_trainset.targets == 9\n",
    "mnist_trainset.data = mnist_trainset.data[exclude_indices]\n",
    "mnist_trainset.targets = mnist_trainset.targets[exclude_indices]\n",
    "\n",
    "# Create a dataloader for training\n",
    "train_loader = torch.utils.data.DataLoader(mnist_trainset, batch_size=16, shuffle=True)\n",
    "\n",
    "# Train the network with LoRA only on the digit 9 and only 100 batches (hoping that it would improve the performace on the digit 9)\n",
    "train(train_loader, model, epochs=1)"
   ]
  },
  {
   "cell_type": "code",
   "execution_count": 44,
   "metadata": {},
   "outputs": [
    {
     "name": "stdout",
     "output_type": "stream",
     "text": [
      "Model(\n",
      "  (fc1): ParametrizedLinear(\n",
      "    in_features=784, out_features=1000, bias=True\n",
      "    (parametrizations): ModuleDict(\n",
      "      (weight): ParametrizationList(\n",
      "        (0): LoRAParameterization()\n",
      "      )\n",
      "    )\n",
      "  )\n",
      "  (fc2): ParametrizedLinear(\n",
      "    in_features=1000, out_features=2000, bias=True\n",
      "    (parametrizations): ModuleDict(\n",
      "      (weight): ParametrizationList(\n",
      "        (0): LoRAParameterization()\n",
      "      )\n",
      "    )\n",
      "  )\n",
      "  (fc3): ParametrizedLinear(\n",
      "    in_features=2000, out_features=10, bias=True\n",
      "    (parametrizations): ModuleDict(\n",
      "      (weight): ParametrizationList(\n",
      "        (0): LoRAParameterization()\n",
      "      )\n",
      "    )\n",
      "  )\n",
      "  (relu): ReLU()\n",
      ")\n"
     ]
    }
   ],
   "source": [
    "print(model)"
   ]
  },
  {
   "cell_type": "code",
   "execution_count": 45,
   "metadata": {},
   "outputs": [],
   "source": [
    "# Verify that the finetuning didn't alter the original weights but only those introduced by LoRA\n",
    "# Check that the frozen parameters are still unchanged by the finetuning \n",
    "assert torch.all(model.fc1.parametrizations.weight.original == original_weights[\"fc1.weight\"])\n",
    "assert torch.all(model.fc2.parametrizations.weight.original == original_weights[\"fc2.weight\"])\n",
    "assert torch.all(model.fc3.parametrizations.weight.original == original_weights[\"fc3.weight\"])\n",
    "\n",
    "enable_disable_lora(enabled=True)\n",
    "# The new linear1.weight is obtained by the \"forward\" ffxn of our LoRA parameterization \n",
    "# The original weights have been moved to model.linear1.parametrizations.weight.original\n",
    "# More information here: pytorch docs for inspecting a parametrized module \n",
    "assert torch.equal(model.fc1.weight, model.fc1.parametrizations.weight.original + (model.fc1.parametrizations.weight[0].lora_B @ model.fc1.parametrizations.weight[0].lora_A).view(model.fc1.weight.shape) * model.fc1.parametrizations.weight[0].scale)\n",
    "\n",
    "enable_disable_lora(enabled=False)\n",
    "# if we disable LoRA, the fc1.weight is the original one\n",
    "assert torch.equal(model.fc1.weight, original_weights[\"fc1.weight\"])"
   ]
  },
  {
   "cell_type": "code",
   "execution_count": 46,
   "metadata": {},
   "outputs": [
    {
     "name": "stderr",
     "output_type": "stream",
     "text": [
      "Testing: 100%|██████████| 313/313 [00:05<00:00, 59.21it/s]"
     ]
    },
    {
     "name": "stdout",
     "output_type": "stream",
     "text": [
      "Accuracy: 29.60%\n",
      "Class 0: 741 wrong predictions\n",
      "Class 1: 1059 wrong predictions\n",
      "Class 2: 474 wrong predictions\n",
      "Class 3: 759 wrong predictions\n",
      "Class 4: 931 wrong predictions\n",
      "Class 5: 687 wrong predictions\n",
      "Class 6: 489 wrong predictions\n",
      "Class 7: 1025 wrong predictions\n",
      "Class 8: 875 wrong predictions\n",
      "Class 9: 0 wrong predictions\n"
     ]
    },
    {
     "name": "stderr",
     "output_type": "stream",
     "text": [
      "\n"
     ]
    }
   ],
   "source": [
    "# Test the network with LoRA enabled (the digit 9 should be classified better)\n",
    "enable_disable_lora(enabled=True)\n",
    "test()"
   ]
  },
  {
   "cell_type": "code",
   "execution_count": 47,
   "metadata": {},
   "outputs": [
    {
     "name": "stderr",
     "output_type": "stream",
     "text": [
      "Testing: 100%|██████████| 313/313 [00:03<00:00, 92.03it/s]"
     ]
    },
    {
     "name": "stdout",
     "output_type": "stream",
     "text": [
      "Accuracy: 96.69%\n",
      "Class 0: 9 wrong predictions\n",
      "Class 1: 27 wrong predictions\n",
      "Class 2: 40 wrong predictions\n",
      "Class 3: 52 wrong predictions\n",
      "Class 4: 21 wrong predictions\n",
      "Class 5: 34 wrong predictions\n",
      "Class 6: 33 wrong predictions\n",
      "Class 7: 33 wrong predictions\n",
      "Class 8: 14 wrong predictions\n",
      "Class 9: 68 wrong predictions\n"
     ]
    },
    {
     "name": "stderr",
     "output_type": "stream",
     "text": [
      "\n"
     ]
    }
   ],
   "source": [
    "# Test the network with LoRA disabled (the accuracy and errors counts must be the same as the original network)\n",
    "enable_disable_lora(enabled=False)\n",
    "test()"
   ]
  },
  {
   "cell_type": "code",
   "execution_count": null,
   "metadata": {},
   "outputs": [],
   "source": []
  }
 ],
 "metadata": {
  "kernelspec": {
   "display_name": "pytorch_2_0",
   "language": "python",
   "name": "python3"
  },
  "language_info": {
   "codemirror_mode": {
    "name": "ipython",
    "version": 3
   },
   "file_extension": ".py",
   "mimetype": "text/x-python",
   "name": "python",
   "nbconvert_exporter": "python",
   "pygments_lexer": "ipython3",
   "version": "3.11.9"
  }
 },
 "nbformat": 4,
 "nbformat_minor": 2
}
